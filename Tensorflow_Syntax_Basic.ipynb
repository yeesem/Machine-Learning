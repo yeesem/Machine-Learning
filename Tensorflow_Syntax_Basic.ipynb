{
  "cells": [
    {
      "cell_type": "markdown",
      "metadata": {
        "id": "view-in-github",
        "colab_type": "text"
      },
      "source": [
        "<a href=\"https://colab.research.google.com/github/yeesem/Machine-Learning/blob/main/Tensorflow_Syntax_Basic.ipynb\" target=\"_parent\"><img src=\"https://colab.research.google.com/assets/colab-badge.svg\" alt=\"Open In Colab\"/></a>"
      ]
    },
    {
      "cell_type": "code",
      "execution_count": 131,
      "metadata": {
        "id": "aWVOVFSzk-Tu"
      },
      "outputs": [],
      "source": [
        "import pandas as pd\n",
        "import numpy as np\n",
        "\n",
        "import seaborn as sns"
      ]
    },
    {
      "cell_type": "code",
      "execution_count": 132,
      "metadata": {
        "id": "kad6yaRQlOMH"
      },
      "outputs": [],
      "source": [
        "df = pd.read_csv('https://raw.githubusercontent.com/yeesem/Machine-Learning-Datasets/main/fake_reg.csv')"
      ]
    },
    {
      "cell_type": "code",
      "execution_count": 133,
      "metadata": {
        "colab": {
          "base_uri": "https://localhost:8080/",
          "height": 206
        },
        "id": "sQL-8LyAmkiT",
        "outputId": "c4965f4a-f85a-4f1a-99e2-013c61c55262"
      },
      "outputs": [
        {
          "output_type": "execute_result",
          "data": {
            "text/plain": [
              "        price     feature1     feature2\n",
              "0  461.527929   999.787558   999.766096\n",
              "1  548.130011   998.861615  1001.042403\n",
              "2  410.297162  1000.070267   998.844015\n",
              "3  540.382220   999.952251  1000.440940\n",
              "4  546.024553  1000.446011  1000.338531"
            ],
            "text/html": [
              "\n",
              "\n",
              "  <div id=\"df-e40fc2cc-3461-4c6b-9aaf-04b1ae87f1c8\">\n",
              "    <div class=\"colab-df-container\">\n",
              "      <div>\n",
              "<style scoped>\n",
              "    .dataframe tbody tr th:only-of-type {\n",
              "        vertical-align: middle;\n",
              "    }\n",
              "\n",
              "    .dataframe tbody tr th {\n",
              "        vertical-align: top;\n",
              "    }\n",
              "\n",
              "    .dataframe thead th {\n",
              "        text-align: right;\n",
              "    }\n",
              "</style>\n",
              "<table border=\"1\" class=\"dataframe\">\n",
              "  <thead>\n",
              "    <tr style=\"text-align: right;\">\n",
              "      <th></th>\n",
              "      <th>price</th>\n",
              "      <th>feature1</th>\n",
              "      <th>feature2</th>\n",
              "    </tr>\n",
              "  </thead>\n",
              "  <tbody>\n",
              "    <tr>\n",
              "      <th>0</th>\n",
              "      <td>461.527929</td>\n",
              "      <td>999.787558</td>\n",
              "      <td>999.766096</td>\n",
              "    </tr>\n",
              "    <tr>\n",
              "      <th>1</th>\n",
              "      <td>548.130011</td>\n",
              "      <td>998.861615</td>\n",
              "      <td>1001.042403</td>\n",
              "    </tr>\n",
              "    <tr>\n",
              "      <th>2</th>\n",
              "      <td>410.297162</td>\n",
              "      <td>1000.070267</td>\n",
              "      <td>998.844015</td>\n",
              "    </tr>\n",
              "    <tr>\n",
              "      <th>3</th>\n",
              "      <td>540.382220</td>\n",
              "      <td>999.952251</td>\n",
              "      <td>1000.440940</td>\n",
              "    </tr>\n",
              "    <tr>\n",
              "      <th>4</th>\n",
              "      <td>546.024553</td>\n",
              "      <td>1000.446011</td>\n",
              "      <td>1000.338531</td>\n",
              "    </tr>\n",
              "  </tbody>\n",
              "</table>\n",
              "</div>\n",
              "      <button class=\"colab-df-convert\" onclick=\"convertToInteractive('df-e40fc2cc-3461-4c6b-9aaf-04b1ae87f1c8')\"\n",
              "              title=\"Convert this dataframe to an interactive table.\"\n",
              "              style=\"display:none;\">\n",
              "\n",
              "  <svg xmlns=\"http://www.w3.org/2000/svg\" height=\"24px\"viewBox=\"0 0 24 24\"\n",
              "       width=\"24px\">\n",
              "    <path d=\"M0 0h24v24H0V0z\" fill=\"none\"/>\n",
              "    <path d=\"M18.56 5.44l.94 2.06.94-2.06 2.06-.94-2.06-.94-.94-2.06-.94 2.06-2.06.94zm-11 1L8.5 8.5l.94-2.06 2.06-.94-2.06-.94L8.5 2.5l-.94 2.06-2.06.94zm10 10l.94 2.06.94-2.06 2.06-.94-2.06-.94-.94-2.06-.94 2.06-2.06.94z\"/><path d=\"M17.41 7.96l-1.37-1.37c-.4-.4-.92-.59-1.43-.59-.52 0-1.04.2-1.43.59L10.3 9.45l-7.72 7.72c-.78.78-.78 2.05 0 2.83L4 21.41c.39.39.9.59 1.41.59.51 0 1.02-.2 1.41-.59l7.78-7.78 2.81-2.81c.8-.78.8-2.07 0-2.86zM5.41 20L4 18.59l7.72-7.72 1.47 1.35L5.41 20z\"/>\n",
              "  </svg>\n",
              "      </button>\n",
              "\n",
              "\n",
              "\n",
              "    <div id=\"df-e75b85e4-37f2-4e8c-bfc7-951cee7e9019\">\n",
              "      <button class=\"colab-df-quickchart\" onclick=\"quickchart('df-e75b85e4-37f2-4e8c-bfc7-951cee7e9019')\"\n",
              "              title=\"Suggest charts.\"\n",
              "              style=\"display:none;\">\n",
              "\n",
              "<svg xmlns=\"http://www.w3.org/2000/svg\" height=\"24px\"viewBox=\"0 0 24 24\"\n",
              "     width=\"24px\">\n",
              "    <g>\n",
              "        <path d=\"M19 3H5c-1.1 0-2 .9-2 2v14c0 1.1.9 2 2 2h14c1.1 0 2-.9 2-2V5c0-1.1-.9-2-2-2zM9 17H7v-7h2v7zm4 0h-2V7h2v10zm4 0h-2v-4h2v4z\"/>\n",
              "    </g>\n",
              "</svg>\n",
              "      </button>\n",
              "    </div>\n",
              "\n",
              "<style>\n",
              "  .colab-df-quickchart {\n",
              "    background-color: #E8F0FE;\n",
              "    border: none;\n",
              "    border-radius: 50%;\n",
              "    cursor: pointer;\n",
              "    display: none;\n",
              "    fill: #1967D2;\n",
              "    height: 32px;\n",
              "    padding: 0 0 0 0;\n",
              "    width: 32px;\n",
              "  }\n",
              "\n",
              "  .colab-df-quickchart:hover {\n",
              "    background-color: #E2EBFA;\n",
              "    box-shadow: 0px 1px 2px rgba(60, 64, 67, 0.3), 0px 1px 3px 1px rgba(60, 64, 67, 0.15);\n",
              "    fill: #174EA6;\n",
              "  }\n",
              "\n",
              "  [theme=dark] .colab-df-quickchart {\n",
              "    background-color: #3B4455;\n",
              "    fill: #D2E3FC;\n",
              "  }\n",
              "\n",
              "  [theme=dark] .colab-df-quickchart:hover {\n",
              "    background-color: #434B5C;\n",
              "    box-shadow: 0px 1px 3px 1px rgba(0, 0, 0, 0.15);\n",
              "    filter: drop-shadow(0px 1px 2px rgba(0, 0, 0, 0.3));\n",
              "    fill: #FFFFFF;\n",
              "  }\n",
              "</style>\n",
              "\n",
              "    <script>\n",
              "      async function quickchart(key) {\n",
              "        const containerElement = document.querySelector('#' + key);\n",
              "        const charts = await google.colab.kernel.invokeFunction(\n",
              "            'suggestCharts', [key], {});\n",
              "      }\n",
              "    </script>\n",
              "\n",
              "      <script>\n",
              "\n",
              "function displayQuickchartButton(domScope) {\n",
              "  let quickchartButtonEl =\n",
              "    domScope.querySelector('#df-e75b85e4-37f2-4e8c-bfc7-951cee7e9019 button.colab-df-quickchart');\n",
              "  quickchartButtonEl.style.display =\n",
              "    google.colab.kernel.accessAllowed ? 'block' : 'none';\n",
              "}\n",
              "\n",
              "        displayQuickchartButton(document);\n",
              "      </script>\n",
              "      <style>\n",
              "    .colab-df-container {\n",
              "      display:flex;\n",
              "      flex-wrap:wrap;\n",
              "      gap: 12px;\n",
              "    }\n",
              "\n",
              "    .colab-df-convert {\n",
              "      background-color: #E8F0FE;\n",
              "      border: none;\n",
              "      border-radius: 50%;\n",
              "      cursor: pointer;\n",
              "      display: none;\n",
              "      fill: #1967D2;\n",
              "      height: 32px;\n",
              "      padding: 0 0 0 0;\n",
              "      width: 32px;\n",
              "    }\n",
              "\n",
              "    .colab-df-convert:hover {\n",
              "      background-color: #E2EBFA;\n",
              "      box-shadow: 0px 1px 2px rgba(60, 64, 67, 0.3), 0px 1px 3px 1px rgba(60, 64, 67, 0.15);\n",
              "      fill: #174EA6;\n",
              "    }\n",
              "\n",
              "    [theme=dark] .colab-df-convert {\n",
              "      background-color: #3B4455;\n",
              "      fill: #D2E3FC;\n",
              "    }\n",
              "\n",
              "    [theme=dark] .colab-df-convert:hover {\n",
              "      background-color: #434B5C;\n",
              "      box-shadow: 0px 1px 3px 1px rgba(0, 0, 0, 0.15);\n",
              "      filter: drop-shadow(0px 1px 2px rgba(0, 0, 0, 0.3));\n",
              "      fill: #FFFFFF;\n",
              "    }\n",
              "  </style>\n",
              "\n",
              "      <script>\n",
              "        const buttonEl =\n",
              "          document.querySelector('#df-e40fc2cc-3461-4c6b-9aaf-04b1ae87f1c8 button.colab-df-convert');\n",
              "        buttonEl.style.display =\n",
              "          google.colab.kernel.accessAllowed ? 'block' : 'none';\n",
              "\n",
              "        async function convertToInteractive(key) {\n",
              "          const element = document.querySelector('#df-e40fc2cc-3461-4c6b-9aaf-04b1ae87f1c8');\n",
              "          const dataTable =\n",
              "            await google.colab.kernel.invokeFunction('convertToInteractive',\n",
              "                                                     [key], {});\n",
              "          if (!dataTable) return;\n",
              "\n",
              "          const docLinkHtml = 'Like what you see? Visit the ' +\n",
              "            '<a target=\"_blank\" href=https://colab.research.google.com/notebooks/data_table.ipynb>data table notebook</a>'\n",
              "            + ' to learn more about interactive tables.';\n",
              "          element.innerHTML = '';\n",
              "          dataTable['output_type'] = 'display_data';\n",
              "          await google.colab.output.renderOutput(dataTable, element);\n",
              "          const docLink = document.createElement('div');\n",
              "          docLink.innerHTML = docLinkHtml;\n",
              "          element.appendChild(docLink);\n",
              "        }\n",
              "      </script>\n",
              "    </div>\n",
              "  </div>\n"
            ]
          },
          "metadata": {},
          "execution_count": 133
        }
      ],
      "source": [
        "df.head()"
      ]
    },
    {
      "cell_type": "code",
      "execution_count": 134,
      "metadata": {
        "colab": {
          "base_uri": "https://localhost:8080/",
          "height": 775
        },
        "id": "6vCWn47Iml_f",
        "outputId": "b22cea35-6136-434d-e17c-51111539f6ff"
      },
      "outputs": [
        {
          "output_type": "execute_result",
          "data": {
            "text/plain": [
              "<seaborn.axisgrid.PairGrid at 0x796e532bb0a0>"
            ]
          },
          "metadata": {},
          "execution_count": 134
        },
        {
          "output_type": "display_data",
          "data": {
            "text/plain": [
              "<Figure size 750x750 with 12 Axes>"
            ],
            "image/png": "[encoded data removed]"
          },
          "metadata": {}
        }
      ],
      "source": [
        "sns.pairplot(df)"
      ]
    },
    {
      "cell_type": "code",
      "execution_count": 135,
      "metadata": {
        "id": "3wfCq0gypCHn"
      },
      "outputs": [],
      "source": [
        "X = df.drop('price',axis=1).values"
      ]
    },
    {
      "cell_type": "code",
      "execution_count": 136,
      "metadata": {
        "colab": {
          "base_uri": "https://localhost:8080/"
        },
        "id": "o-AvjFQypNWw",
        "outputId": "c7814d85-3eec-4362-8af1-fb9da9b9bc71"
      },
      "outputs": [
        {
          "output_type": "execute_result",
          "data": {
            "text/plain": [
              "array([[ 999.78755752,  999.7660962 ],\n",
              "       [ 998.86161491, 1001.04240315],\n",
              "       [1000.07026691,  998.84401463],\n",
              "       ...,\n",
              "       [1001.45164617,  998.84760554],\n",
              "       [1000.77102275,  998.56285086],\n",
              "       [ 999.2322436 , 1001.45140713]])"
            ]
          },
          "metadata": {},
          "execution_count": 136
        }
      ],
      "source": [
        "X"
      ]
    },
    {
      "cell_type": "code",
      "execution_count": 137,
      "metadata": {
        "id": "MC95p7LmoiNJ"
      },
      "outputs": [],
      "source": [
        "y = df['price'].values"
      ]
    },
    {
      "cell_type": "code",
      "execution_count": 138,
      "metadata": {
        "id": "tNpgC4CtnNM7"
      },
      "outputs": [],
      "source": [
        "from sklearn.model_selection import train_test_split"
      ]
    },
    {
      "cell_type": "code",
      "execution_count": 139,
      "metadata": {
        "id": "KCdC5Sc5ngp9"
      },
      "outputs": [],
      "source": [
        "X_train,X_test,y_train,y_test = train_test_split(X,y,test_size = 0.3,random_state=101)"
      ]
    },
    {
      "cell_type": "code",
      "execution_count": 140,
      "metadata": {
        "id": "kkJAe3xnovbX",
        "colab": {
          "base_uri": "https://localhost:8080/"
        },
        "outputId": "d6c27c5f-0ecd-49e0-d0ab-7f0a94c44fac"
      },
      "outputs": [
        {
          "output_type": "execute_result",
          "data": {
            "text/plain": [
              "(700, 2)"
            ]
          },
          "metadata": {},
          "execution_count": 140
        }
      ],
      "source": [
        "X_train.shape"
      ]
    },
    {
      "cell_type": "code",
      "execution_count": 141,
      "metadata": {
        "id": "AWRX11pQsGY4",
        "colab": {
          "base_uri": "https://localhost:8080/"
        },
        "outputId": "e86d3532-39c1-4b7b-eede-75b55088bd02"
      },
      "outputs": [
        {
          "output_type": "execute_result",
          "data": {
            "text/plain": [
              "(300, 2)"
            ]
          },
          "metadata": {},
          "execution_count": 141
        }
      ],
      "source": [
        "X_test.shape"
      ]
    },
    {
      "cell_type": "code",
      "execution_count": 142,
      "metadata": {
        "id": "Qg0433-OsJAn"
      },
      "outputs": [],
      "source": [
        "from sklearn.preprocessing import MinMaxScaler"
      ]
    },
    {
      "cell_type": "code",
      "execution_count": null,
      "metadata": {
        "id": "zf6qf6d3sWJ1"
      },
      "outputs": [],
      "source": [
        "#Explanation of MinMaxScaler\n",
        "help(MinMaxScaler)"
      ]
    },
    {
      "cell_type": "code",
      "execution_count": 144,
      "metadata": {
        "id": "jGedXGKesZJP"
      },
      "outputs": [],
      "source": [
        "scaler = MinMaxScaler()"
      ]
    },
    {
      "cell_type": "code",
      "execution_count": 145,
      "metadata": {
        "id": "bioPi32rsq4n"
      },
      "outputs": [],
      "source": [
        "X_train = scaler.fit_transform(X_train)"
      ]
    },
    {
      "cell_type": "code",
      "execution_count": 146,
      "metadata": {
        "id": "EhHKCLj6s48a"
      },
      "outputs": [],
      "source": [
        "X_test = scaler.transform(X_test)"
      ]
    },
    {
      "cell_type": "code",
      "execution_count": 147,
      "metadata": {
        "id": "fPmeZsrEtAh3"
      },
      "outputs": [],
      "source": [
        "from tensorflow.keras.models import Sequential\n",
        "from tensorflow.keras.layers import Dense"
      ]
    },
    {
      "cell_type": "code",
      "execution_count": null,
      "metadata": {
        "id": "jzo9BTilt6FA"
      },
      "outputs": [],
      "source": [
        "#Documentation of Sequential\n",
        "help(Sequential)"
      ]
    },
    {
      "cell_type": "code",
      "execution_count": 149,
      "metadata": {
        "id": "j3-byk1auHMo"
      },
      "outputs": [],
      "source": [
        "#2 Ways of creating Sequential Model\n",
        "#Method 1\n",
        "model = Sequential([Dense(4,activation = 'relu'),\n",
        "                    Dense(2,activation = 'relu'),\n",
        "                    Dense(1)])"
      ]
    },
    {
      "cell_type": "code",
      "execution_count": 150,
      "metadata": {
        "id": "Uz7pMA1Wu2RS"
      },
      "outputs": [],
      "source": [
        "#Method 2\n",
        "model = Sequential()\n",
        "\n",
        "model.add(Dense(4,activation='relu'))\n",
        "model.add(Dense(4,activation='relu'))\n",
        "model.add(Dense(4,activation='relu'))\n",
        "\n",
        "model.add(Dense(1))"
      ]
    },
    {
      "cell_type": "code",
      "execution_count": 151,
      "metadata": {
        "id": "jsBa8HGlvMRS"
      },
      "outputs": [],
      "source": [
        "model.compile(optimizer='rmsprop',loss='mse')"
      ]
    },
    {
      "cell_type": "code",
      "execution_count": 152,
      "metadata": {
        "id": "vXwP9OoXwSyR",
        "colab": {
          "base_uri": "https://localhost:8080/"
        },
        "outputId": "4439c804-f0c6-4b25-9fd3-89c1f23ec314"
      },
      "outputs": [
        {
          "output_type": "stream",
          "name": "stdout",
          "text": [
            "Epoch 1/250\n",
            "22/22 [==============================] - 1s 3ms/step - loss: 259099.2031\n",
            "Epoch 2/250\n",
            "22/22 [==============================] - 0s 3ms/step - loss: 259040.2344\n",
            "Epoch 3/250\n",
            "22/22 [==============================] - 0s 2ms/step - loss: 258985.4219\n",
            "Epoch 4/250\n",
            "22/22 [==============================] - 0s 3ms/step - loss: 258924.9219\n",
            "Epoch 5/250\n",
            "22/22 [==============================] - 0s 2ms/step - loss: 258856.0156\n",
            "Epoch 6/250\n",
            "22/22 [==============================] - 0s 2ms/step - loss: 258777.7812\n",
            "Epoch 7/250\n",
            "22/22 [==============================] - 0s 3ms/step - loss: 258689.8281\n",
            "Epoch 8/250\n",
            "22/22 [==============================] - 0s 3ms/step - loss: 258590.4531\n",
            "Epoch 9/250\n",
            "22/22 [==============================] - 0s 2ms/step - loss: 258478.6562\n",
            "Epoch 10/250\n",
            "22/22 [==============================] - 0s 2ms/step - loss: 258354.0312\n",
            "Epoch 11/250\n",
            "22/22 [==============================] - 0s 2ms/step - loss: 258214.5781\n",
            "Epoch 12/250\n",
            "22/22 [==============================] - 0s 2ms/step - loss: 258058.5312\n",
            "Epoch 13/250\n",
            "22/22 [==============================] - 0s 2ms/step - loss: 257885.5312\n",
            "Epoch 14/250\n",
            "22/22 [==============================] - 0s 2ms/step - loss: 257694.3750\n",
            "Epoch 15/250\n",
            "22/22 [==============================] - 0s 2ms/step - loss: 257482.0156\n",
            "Epoch 16/250\n",
            "22/22 [==============================] - 0s 2ms/step - loss: 257246.7656\n",
            "Epoch 17/250\n",
            "22/22 [==============================] - 0s 2ms/step - loss: 256986.9062\n",
            "Epoch 18/250\n",
            "22/22 [==============================] - 0s 2ms/step - loss: 256700.0625\n",
            "Epoch 19/250\n",
            "22/22 [==============================] - 0s 2ms/step - loss: 256383.9375\n",
            "Epoch 20/250\n",
            "22/22 [==============================] - 0s 2ms/step - loss: 256039.0469\n",
            "Epoch 21/250\n",
            "22/22 [==============================] - 0s 2ms/step - loss: 255661.8750\n",
            "Epoch 22/250\n",
            "22/22 [==============================] - 0s 3ms/step - loss: 255249.0938\n",
            "Epoch 23/250\n",
            "22/22 [==============================] - 0s 3ms/step - loss: 254800.7031\n",
            "Epoch 24/250\n",
            "22/22 [==============================] - 0s 3ms/step - loss: 254310.5312\n",
            "Epoch 25/250\n",
            "22/22 [==============================] - 0s 2ms/step - loss: 253781.6875\n",
            "Epoch 26/250\n",
            "22/22 [==============================] - 0s 2ms/step - loss: 253206.3750\n",
            "Epoch 27/250\n",
            "22/22 [==============================] - 0s 2ms/step - loss: 252591.8438\n",
            "Epoch 28/250\n",
            "22/22 [==============================] - 0s 2ms/step - loss: 251925.5312\n",
            "Epoch 29/250\n",
            "22/22 [==============================] - 0s 2ms/step - loss: 251210.0625\n",
            "Epoch 30/250\n",
            "22/22 [==============================] - 0s 2ms/step - loss: 250443.2500\n",
            "Epoch 31/250\n",
            "22/22 [==============================] - 0s 2ms/step - loss: 249615.2969\n",
            "Epoch 32/250\n",
            "22/22 [==============================] - 0s 2ms/step - loss: 248730.7188\n",
            "Epoch 33/250\n",
            "22/22 [==============================] - 0s 2ms/step - loss: 247788.5469\n",
            "Epoch 34/250\n",
            "22/22 [==============================] - 0s 2ms/step - loss: 246782.0312\n",
            "Epoch 35/250\n",
            "22/22 [==============================] - 0s 2ms/step - loss: 245706.9219\n",
            "Epoch 36/250\n",
            "22/22 [==============================] - 0s 2ms/step - loss: 244565.0000\n",
            "Epoch 37/250\n",
            "22/22 [==============================] - 0s 2ms/step - loss: 243352.1875\n",
            "Epoch 38/250\n",
            "22/22 [==============================] - 0s 2ms/step - loss: 242064.6094\n",
            "Epoch 39/250\n",
            "22/22 [==============================] - 0s 2ms/step - loss: 240702.1719\n",
            "Epoch 40/250\n",
            "22/22 [==============================] - 0s 2ms/step - loss: 239261.1250\n",
            "Epoch 41/250\n",
            "22/22 [==============================] - 0s 3ms/step - loss: 237738.1250\n",
            "Epoch 42/250\n",
            "22/22 [==============================] - 0s 3ms/step - loss: 236132.7969\n",
            "Epoch 43/250\n",
            "22/22 [==============================] - 0s 2ms/step - loss: 234440.0469\n",
            "Epoch 44/250\n",
            "22/22 [==============================] - 0s 3ms/step - loss: 232655.1094\n",
            "Epoch 45/250\n",
            "22/22 [==============================] - 0s 3ms/step - loss: 230781.9688\n",
            "Epoch 46/250\n",
            "22/22 [==============================] - 0s 3ms/step - loss: 228809.7188\n",
            "Epoch 47/250\n",
            "22/22 [==============================] - 0s 3ms/step - loss: 226742.5312\n",
            "Epoch 48/250\n",
            "22/22 [==============================] - 0s 3ms/step - loss: 224577.4688\n",
            "Epoch 49/250\n",
            "22/22 [==============================] - 0s 2ms/step - loss: 222319.7656\n",
            "Epoch 50/250\n",
            "22/22 [==============================] - 0s 2ms/step - loss: 219950.1562\n",
            "Epoch 51/250\n",
            "22/22 [==============================] - 0s 2ms/step - loss: 217473.7344\n",
            "Epoch 52/250\n",
            "22/22 [==============================] - 0s 2ms/step - loss: 214906.5312\n",
            "Epoch 53/250\n",
            "22/22 [==============================] - 0s 2ms/step - loss: 212222.9062\n",
            "Epoch 54/250\n",
            "22/22 [==============================] - 0s 2ms/step - loss: 209425.3906\n",
            "Epoch 55/250\n",
            "22/22 [==============================] - 0s 2ms/step - loss: 206520.3125\n",
            "Epoch 56/250\n",
            "22/22 [==============================] - 0s 2ms/step - loss: 203503.7969\n",
            "Epoch 57/250\n",
            "22/22 [==============================] - 0s 2ms/step - loss: 200366.9062\n",
            "Epoch 58/250\n",
            "22/22 [==============================] - 0s 2ms/step - loss: 197128.2969\n",
            "Epoch 59/250\n",
            "22/22 [==============================] - 0s 2ms/step - loss: 193771.0781\n",
            "Epoch 60/250\n",
            "22/22 [==============================] - 0s 2ms/step - loss: 190290.5469\n",
            "Epoch 61/250\n",
            "22/22 [==============================] - 0s 2ms/step - loss: 186695.1094\n",
            "Epoch 62/250\n",
            "22/22 [==============================] - 0s 2ms/step - loss: 182994.7188\n",
            "Epoch 63/250\n",
            "22/22 [==============================] - 0s 2ms/step - loss: 179192.7344\n",
            "Epoch 64/250\n",
            "22/22 [==============================] - 0s 2ms/step - loss: 175260.6250\n",
            "Epoch 65/250\n",
            "22/22 [==============================] - 0s 2ms/step - loss: 171204.0156\n",
            "Epoch 66/250\n",
            "22/22 [==============================] - 0s 2ms/step - loss: 167075.1250\n",
            "Epoch 67/250\n",
            "22/22 [==============================] - 0s 2ms/step - loss: 162803.8906\n",
            "Epoch 68/250\n",
            "22/22 [==============================] - 0s 2ms/step - loss: 158416.9219\n",
            "Epoch 69/250\n",
            "22/22 [==============================] - 0s 2ms/step - loss: 153958.1562\n",
            "Epoch 70/250\n",
            "22/22 [==============================] - 0s 2ms/step - loss: 149377.5156\n",
            "Epoch 71/250\n",
            "22/22 [==============================] - 0s 2ms/step - loss: 144722.4844\n",
            "Epoch 72/250\n",
            "22/22 [==============================] - 0s 2ms/step - loss: 139961.9062\n",
            "Epoch 73/250\n",
            "22/22 [==============================] - 0s 2ms/step - loss: 135100.2656\n",
            "Epoch 74/250\n",
            "22/22 [==============================] - 0s 2ms/step - loss: 130187.8750\n",
            "Epoch 75/250\n",
            "22/22 [==============================] - 0s 2ms/step - loss: 125178.5000\n",
            "Epoch 76/250\n",
            "22/22 [==============================] - 0s 2ms/step - loss: 120096.8359\n",
            "Epoch 77/250\n",
            "22/22 [==============================] - 0s 2ms/step - loss: 114970.7891\n",
            "Epoch 78/250\n",
            "22/22 [==============================] - 0s 2ms/step - loss: 109771.0859\n",
            "Epoch 79/250\n",
            "22/22 [==============================] - 0s 2ms/step - loss: 104529.4297\n",
            "Epoch 80/250\n",
            "22/22 [==============================] - 0s 2ms/step - loss: 99227.1562\n",
            "Epoch 81/250\n",
            "22/22 [==============================] - 0s 2ms/step - loss: 93925.2969\n",
            "Epoch 82/250\n",
            "22/22 [==============================] - 0s 2ms/step - loss: 88640.1016\n",
            "Epoch 83/250\n",
            "22/22 [==============================] - 0s 2ms/step - loss: 83305.1016\n",
            "Epoch 84/250\n",
            "22/22 [==============================] - 0s 2ms/step - loss: 78037.5625\n",
            "Epoch 85/250\n",
            "22/22 [==============================] - 0s 3ms/step - loss: 72738.7109\n",
            "Epoch 86/250\n",
            "22/22 [==============================] - 0s 2ms/step - loss: 67470.9062\n",
            "Epoch 87/250\n",
            "22/22 [==============================] - 0s 2ms/step - loss: 62270.2070\n",
            "Epoch 88/250\n",
            "22/22 [==============================] - 0s 2ms/step - loss: 57159.8750\n",
            "Epoch 89/250\n",
            "22/22 [==============================] - 0s 2ms/step - loss: 52140.8047\n",
            "Epoch 90/250\n",
            "22/22 [==============================] - 0s 2ms/step - loss: 47231.9336\n",
            "Epoch 91/250\n",
            "22/22 [==============================] - 0s 2ms/step - loss: 42416.3125\n",
            "Epoch 92/250\n",
            "22/22 [==============================] - 0s 2ms/step - loss: 37781.1016\n",
            "Epoch 93/250\n",
            "22/22 [==============================] - 0s 2ms/step - loss: 33334.6641\n",
            "Epoch 94/250\n",
            "22/22 [==============================] - 0s 2ms/step - loss: 29068.7832\n",
            "Epoch 95/250\n",
            "22/22 [==============================] - 0s 2ms/step - loss: 24981.7832\n",
            "Epoch 96/250\n",
            "22/22 [==============================] - 0s 2ms/step - loss: 21164.4004\n",
            "Epoch 97/250\n",
            "22/22 [==============================] - 0s 2ms/step - loss: 17602.7793\n",
            "Epoch 98/250\n",
            "22/22 [==============================] - 0s 2ms/step - loss: 14361.8896\n",
            "Epoch 99/250\n",
            "22/22 [==============================] - 0s 2ms/step - loss: 11425.4072\n",
            "Epoch 100/250\n",
            "22/22 [==============================] - 0s 2ms/step - loss: 8864.5039\n",
            "Epoch 101/250\n",
            "22/22 [==============================] - 0s 2ms/step - loss: 6662.9258\n",
            "Epoch 102/250\n",
            "22/22 [==============================] - 0s 2ms/step - loss: 4883.3428\n",
            "Epoch 103/250\n",
            "22/22 [==============================] - 0s 2ms/step - loss: 3518.4922\n",
            "Epoch 104/250\n",
            "22/22 [==============================] - 0s 2ms/step - loss: 2571.4275\n",
            "Epoch 105/250\n",
            "22/22 [==============================] - 0s 2ms/step - loss: 2051.5029\n",
            "Epoch 106/250\n",
            "22/22 [==============================] - 0s 2ms/step - loss: 1834.9336\n",
            "Epoch 107/250\n",
            "22/22 [==============================] - 0s 2ms/step - loss: 1784.4443\n",
            "Epoch 108/250\n",
            "22/22 [==============================] - 0s 2ms/step - loss: 1762.0879\n",
            "Epoch 109/250\n",
            "22/22 [==============================] - 0s 2ms/step - loss: 1734.7283\n",
            "Epoch 110/250\n",
            "22/22 [==============================] - 0s 2ms/step - loss: 1708.4602\n",
            "Epoch 111/250\n",
            "22/22 [==============================] - 0s 2ms/step - loss: 1685.9390\n",
            "Epoch 112/250\n",
            "22/22 [==============================] - 0s 2ms/step - loss: 1659.3793\n",
            "Epoch 113/250\n",
            "22/22 [==============================] - 0s 2ms/step - loss: 1634.0059\n",
            "Epoch 114/250\n",
            "22/22 [==============================] - 0s 2ms/step - loss: 1608.2356\n",
            "Epoch 115/250\n",
            "22/22 [==============================] - 0s 2ms/step - loss: 1581.9484\n",
            "Epoch 116/250\n",
            "22/22 [==============================] - 0s 2ms/step - loss: 1553.6631\n",
            "Epoch 117/250\n",
            "22/22 [==============================] - 0s 2ms/step - loss: 1527.4087\n",
            "Epoch 118/250\n",
            "22/22 [==============================] - 0s 2ms/step - loss: 1501.0011\n",
            "Epoch 119/250\n",
            "22/22 [==============================] - 0s 2ms/step - loss: 1478.2306\n",
            "Epoch 120/250\n",
            "22/22 [==============================] - 0s 2ms/step - loss: 1452.5493\n",
            "Epoch 121/250\n",
            "22/22 [==============================] - 0s 2ms/step - loss: 1426.5675\n",
            "Epoch 122/250\n",
            "22/22 [==============================] - 0s 2ms/step - loss: 1400.4879\n",
            "Epoch 123/250\n",
            "22/22 [==============================] - 0s 2ms/step - loss: 1375.3925\n",
            "Epoch 124/250\n",
            "22/22 [==============================] - 0s 2ms/step - loss: 1350.3718\n",
            "Epoch 125/250\n",
            "22/22 [==============================] - 0s 2ms/step - loss: 1324.5302\n",
            "Epoch 126/250\n",
            "22/22 [==============================] - 0s 2ms/step - loss: 1298.2352\n",
            "Epoch 127/250\n",
            "22/22 [==============================] - 0s 2ms/step - loss: 1272.9503\n",
            "Epoch 128/250\n",
            "22/22 [==============================] - 0s 2ms/step - loss: 1251.5520\n",
            "Epoch 129/250\n",
            "22/22 [==============================] - 0s 2ms/step - loss: 1226.3517\n",
            "Epoch 130/250\n",
            "22/22 [==============================] - 0s 2ms/step - loss: 1201.3691\n",
            "Epoch 131/250\n",
            "22/22 [==============================] - 0s 2ms/step - loss: 1175.1703\n",
            "Epoch 132/250\n",
            "22/22 [==============================] - 0s 2ms/step - loss: 1151.3466\n",
            "Epoch 133/250\n",
            "22/22 [==============================] - 0s 2ms/step - loss: 1127.9935\n",
            "Epoch 134/250\n",
            "22/22 [==============================] - 0s 2ms/step - loss: 1106.8400\n",
            "Epoch 135/250\n",
            "22/22 [==============================] - 0s 2ms/step - loss: 1084.7371\n",
            "Epoch 136/250\n",
            "22/22 [==============================] - 0s 2ms/step - loss: 1057.8134\n",
            "Epoch 137/250\n",
            "22/22 [==============================] - 0s 2ms/step - loss: 1041.1694\n",
            "Epoch 138/250\n",
            "22/22 [==============================] - 0s 2ms/step - loss: 1019.7224\n",
            "Epoch 139/250\n",
            "22/22 [==============================] - 0s 2ms/step - loss: 997.1312\n",
            "Epoch 140/250\n",
            "22/22 [==============================] - 0s 2ms/step - loss: 968.7461\n",
            "Epoch 141/250\n",
            "22/22 [==============================] - 0s 2ms/step - loss: 956.2272\n",
            "Epoch 142/250\n",
            "22/22 [==============================] - 0s 2ms/step - loss: 933.2097\n",
            "Epoch 143/250\n",
            "22/22 [==============================] - 0s 2ms/step - loss: 915.4936\n",
            "Epoch 144/250\n",
            "22/22 [==============================] - 0s 2ms/step - loss: 893.1705\n",
            "Epoch 145/250\n",
            "22/22 [==============================] - 0s 2ms/step - loss: 875.0887\n",
            "Epoch 146/250\n",
            "22/22 [==============================] - 0s 2ms/step - loss: 853.9441\n",
            "Epoch 147/250\n",
            "22/22 [==============================] - 0s 2ms/step - loss: 834.1389\n",
            "Epoch 148/250\n",
            "22/22 [==============================] - 0s 2ms/step - loss: 812.9133\n",
            "Epoch 149/250\n",
            "22/22 [==============================] - 0s 2ms/step - loss: 796.1281\n",
            "Epoch 150/250\n",
            "22/22 [==============================] - 0s 2ms/step - loss: 777.0805\n",
            "Epoch 151/250\n",
            "22/22 [==============================] - 0s 2ms/step - loss: 757.3187\n",
            "Epoch 152/250\n",
            "22/22 [==============================] - 0s 2ms/step - loss: 739.5276\n",
            "Epoch 153/250\n",
            "22/22 [==============================] - 0s 2ms/step - loss: 719.3975\n",
            "Epoch 154/250\n",
            "22/22 [==============================] - 0s 2ms/step - loss: 701.1516\n",
            "Epoch 155/250\n",
            "22/22 [==============================] - 0s 2ms/step - loss: 678.7100\n",
            "Epoch 156/250\n",
            "22/22 [==============================] - 0s 2ms/step - loss: 659.7507\n",
            "Epoch 157/250\n",
            "22/22 [==============================] - 0s 2ms/step - loss: 642.1328\n",
            "Epoch 158/250\n",
            "22/22 [==============================] - 0s 2ms/step - loss: 621.9940\n",
            "Epoch 159/250\n",
            "22/22 [==============================] - 0s 2ms/step - loss: 605.5582\n",
            "Epoch 160/250\n",
            "22/22 [==============================] - 0s 2ms/step - loss: 590.7690\n",
            "Epoch 161/250\n",
            "22/22 [==============================] - 0s 2ms/step - loss: 573.1053\n",
            "Epoch 162/250\n",
            "22/22 [==============================] - 0s 2ms/step - loss: 554.6572\n",
            "Epoch 163/250\n",
            "22/22 [==============================] - 0s 2ms/step - loss: 538.2705\n",
            "Epoch 164/250\n",
            "22/22 [==============================] - 0s 2ms/step - loss: 520.5265\n",
            "Epoch 165/250\n",
            "22/22 [==============================] - 0s 2ms/step - loss: 504.9439\n",
            "Epoch 166/250\n",
            "22/22 [==============================] - 0s 2ms/step - loss: 487.8432\n",
            "Epoch 167/250\n",
            "22/22 [==============================] - 0s 2ms/step - loss: 472.9358\n",
            "Epoch 168/250\n",
            "22/22 [==============================] - 0s 2ms/step - loss: 458.0631\n",
            "Epoch 169/250\n",
            "22/22 [==============================] - 0s 2ms/step - loss: 442.9617\n",
            "Epoch 170/250\n",
            "22/22 [==============================] - 0s 2ms/step - loss: 426.4194\n",
            "Epoch 171/250\n",
            "22/22 [==============================] - 0s 2ms/step - loss: 411.0757\n",
            "Epoch 172/250\n",
            "22/22 [==============================] - 0s 2ms/step - loss: 397.1559\n",
            "Epoch 173/250\n",
            "22/22 [==============================] - 0s 2ms/step - loss: 384.2161\n",
            "Epoch 174/250\n",
            "22/22 [==============================] - 0s 2ms/step - loss: 369.5015\n",
            "Epoch 175/250\n",
            "22/22 [==============================] - 0s 2ms/step - loss: 356.5334\n",
            "Epoch 176/250\n",
            "22/22 [==============================] - 0s 2ms/step - loss: 340.9189\n",
            "Epoch 177/250\n",
            "22/22 [==============================] - 0s 2ms/step - loss: 325.3637\n",
            "Epoch 178/250\n",
            "22/22 [==============================] - 0s 2ms/step - loss: 313.5275\n",
            "Epoch 179/250\n",
            "22/22 [==============================] - 0s 2ms/step - loss: 299.6500\n",
            "Epoch 180/250\n",
            "22/22 [==============================] - 0s 2ms/step - loss: 286.6545\n",
            "Epoch 181/250\n",
            "22/22 [==============================] - 0s 2ms/step - loss: 276.2052\n",
            "Epoch 182/250\n",
            "22/22 [==============================] - 0s 2ms/step - loss: 263.5142\n",
            "Epoch 183/250\n",
            "22/22 [==============================] - 0s 2ms/step - loss: 250.4956\n",
            "Epoch 184/250\n",
            "22/22 [==============================] - 0s 2ms/step - loss: 239.1156\n",
            "Epoch 185/250\n",
            "22/22 [==============================] - 0s 2ms/step - loss: 231.0373\n",
            "Epoch 186/250\n",
            "22/22 [==============================] - 0s 2ms/step - loss: 219.5999\n",
            "Epoch 187/250\n",
            "22/22 [==============================] - 0s 2ms/step - loss: 209.7170\n",
            "Epoch 188/250\n",
            "22/22 [==============================] - 0s 2ms/step - loss: 198.9300\n",
            "Epoch 189/250\n",
            "22/22 [==============================] - 0s 2ms/step - loss: 189.4509\n",
            "Epoch 190/250\n",
            "22/22 [==============================] - 0s 2ms/step - loss: 179.2151\n",
            "Epoch 191/250\n",
            "22/22 [==============================] - 0s 2ms/step - loss: 170.5783\n",
            "Epoch 192/250\n",
            "22/22 [==============================] - 0s 2ms/step - loss: 160.9623\n",
            "Epoch 193/250\n",
            "22/22 [==============================] - 0s 2ms/step - loss: 151.2299\n",
            "Epoch 194/250\n",
            "22/22 [==============================] - 0s 2ms/step - loss: 142.0941\n",
            "Epoch 195/250\n",
            "22/22 [==============================] - 0s 2ms/step - loss: 133.4913\n",
            "Epoch 196/250\n",
            "22/22 [==============================] - 0s 2ms/step - loss: 126.3112\n",
            "Epoch 197/250\n",
            "22/22 [==============================] - 0s 2ms/step - loss: 117.3617\n",
            "Epoch 198/250\n",
            "22/22 [==============================] - 0s 2ms/step - loss: 110.4993\n",
            "Epoch 199/250\n",
            "22/22 [==============================] - 0s 2ms/step - loss: 104.1676\n",
            "Epoch 200/250\n",
            "22/22 [==============================] - 0s 2ms/step - loss: 98.1196\n",
            "Epoch 201/250\n",
            "22/22 [==============================] - 0s 2ms/step - loss: 92.2758\n",
            "Epoch 202/250\n",
            "22/22 [==============================] - 0s 2ms/step - loss: 87.1216\n",
            "Epoch 203/250\n",
            "22/22 [==============================] - 0s 2ms/step - loss: 81.4631\n",
            "Epoch 204/250\n",
            "22/22 [==============================] - 0s 2ms/step - loss: 76.0254\n",
            "Epoch 205/250\n",
            "22/22 [==============================] - 0s 2ms/step - loss: 71.2096\n",
            "Epoch 206/250\n",
            "22/22 [==============================] - 0s 2ms/step - loss: 67.6848\n",
            "Epoch 207/250\n",
            "22/22 [==============================] - 0s 2ms/step - loss: 63.3797\n",
            "Epoch 208/250\n",
            "22/22 [==============================] - 0s 2ms/step - loss: 59.7509\n",
            "Epoch 209/250\n",
            "22/22 [==============================] - 0s 2ms/step - loss: 56.5844\n",
            "Epoch 210/250\n",
            "22/22 [==============================] - 0s 2ms/step - loss: 52.9459\n",
            "Epoch 211/250\n",
            "22/22 [==============================] - 0s 2ms/step - loss: 49.5382\n",
            "Epoch 212/250\n",
            "22/22 [==============================] - 0s 2ms/step - loss: 46.7480\n",
            "Epoch 213/250\n",
            "22/22 [==============================] - 0s 2ms/step - loss: 44.1481\n",
            "Epoch 214/250\n",
            "22/22 [==============================] - 0s 2ms/step - loss: 41.3485\n",
            "Epoch 215/250\n",
            "22/22 [==============================] - 0s 2ms/step - loss: 39.3476\n",
            "Epoch 216/250\n",
            "22/22 [==============================] - 0s 2ms/step - loss: 38.3890\n",
            "Epoch 217/250\n",
            "22/22 [==============================] - 0s 2ms/step - loss: 36.2395\n",
            "Epoch 218/250\n",
            "22/22 [==============================] - 0s 2ms/step - loss: 34.8707\n",
            "Epoch 219/250\n",
            "22/22 [==============================] - 0s 2ms/step - loss: 33.1958\n",
            "Epoch 220/250\n",
            "22/22 [==============================] - 0s 2ms/step - loss: 32.2015\n",
            "Epoch 221/250\n",
            "22/22 [==============================] - 0s 2ms/step - loss: 30.9702\n",
            "Epoch 222/250\n",
            "22/22 [==============================] - 0s 2ms/step - loss: 30.1071\n",
            "Epoch 223/250\n",
            "22/22 [==============================] - 0s 2ms/step - loss: 29.1014\n",
            "Epoch 224/250\n",
            "22/22 [==============================] - 0s 2ms/step - loss: 28.2903\n",
            "Epoch 225/250\n",
            "22/22 [==============================] - 0s 2ms/step - loss: 27.6420\n",
            "Epoch 226/250\n",
            "22/22 [==============================] - 0s 2ms/step - loss: 26.8641\n",
            "Epoch 227/250\n",
            "22/22 [==============================] - 0s 2ms/step - loss: 26.2690\n",
            "Epoch 228/250\n",
            "22/22 [==============================] - 0s 2ms/step - loss: 25.8906\n",
            "Epoch 229/250\n",
            "22/22 [==============================] - 0s 2ms/step - loss: 25.3753\n",
            "Epoch 230/250\n",
            "22/22 [==============================] - 0s 2ms/step - loss: 25.5403\n",
            "Epoch 231/250\n",
            "22/22 [==============================] - 0s 2ms/step - loss: 25.0512\n",
            "Epoch 232/250\n",
            "22/22 [==============================] - 0s 2ms/step - loss: 24.3388\n",
            "Epoch 233/250\n",
            "22/22 [==============================] - 0s 2ms/step - loss: 24.4747\n",
            "Epoch 234/250\n",
            "22/22 [==============================] - 0s 2ms/step - loss: 24.2900\n",
            "Epoch 235/250\n",
            "22/22 [==============================] - 0s 2ms/step - loss: 24.2214\n",
            "Epoch 236/250\n",
            "22/22 [==============================] - 0s 2ms/step - loss: 23.7435\n",
            "Epoch 237/250\n",
            "22/22 [==============================] - 0s 2ms/step - loss: 24.1405\n",
            "Epoch 238/250\n",
            "22/22 [==============================] - 0s 2ms/step - loss: 23.8508\n",
            "Epoch 239/250\n",
            "22/22 [==============================] - 0s 2ms/step - loss: 23.7723\n",
            "Epoch 240/250\n",
            "22/22 [==============================] - 0s 2ms/step - loss: 24.1078\n",
            "Epoch 241/250\n",
            "22/22 [==============================] - 0s 2ms/step - loss: 23.5107\n",
            "Epoch 242/250\n",
            "22/22 [==============================] - 0s 2ms/step - loss: 23.7116\n",
            "Epoch 243/250\n",
            "22/22 [==============================] - 0s 2ms/step - loss: 23.3244\n",
            "Epoch 244/250\n",
            "22/22 [==============================] - 0s 2ms/step - loss: 23.5477\n",
            "Epoch 245/250\n",
            "22/22 [==============================] - 0s 2ms/step - loss: 23.5951\n",
            "Epoch 246/250\n",
            "22/22 [==============================] - 0s 2ms/step - loss: 23.8116\n",
            "Epoch 247/250\n",
            "22/22 [==============================] - 0s 2ms/step - loss: 23.1620\n",
            "Epoch 248/250\n",
            "22/22 [==============================] - 0s 2ms/step - loss: 23.3236\n",
            "Epoch 249/250\n",
            "22/22 [==============================] - 0s 2ms/step - loss: 23.3397\n",
            "Epoch 250/250\n",
            "22/22 [==============================] - 0s 2ms/step - loss: 23.3094\n"
          ]
        },
        {
          "output_type": "execute_result",
          "data": {
            "text/plain": [
              "<keras.callbacks.History at 0x796e52d560b0>"
            ]
          },
          "metadata": {},
          "execution_count": 152
        }
      ],
      "source": [
        "model.fit(x = X_train,y = y_train,epochs=250)"
      ]
    },
    {
      "cell_type": "code",
      "execution_count": 153,
      "metadata": {
        "id": "-kgeW1uWzjyD"
      },
      "outputs": [],
      "source": [
        "loss_df = pd.DataFrame(model.history.history)"
      ]
    },
    {
      "cell_type": "code",
      "execution_count": 154,
      "metadata": {
        "id": "-2aWVTuXzuZJ",
        "colab": {
          "base_uri": "https://localhost:8080/",
          "height": 447
        },
        "outputId": "74efdf2e-0529-4a0f-dc53-7c52905e73e6"
      },
      "outputs": [
        {
          "output_type": "execute_result",
          "data": {
            "text/plain": [
              "<Axes: >"
            ]
          },
          "metadata": {},
          "execution_count": 154
        },
        {
          "output_type": "display_data",
          "data": {
            "text/plain": [
              "<Figure size 640x480 with 1 Axes>"
            ],
            "image/png": "[encoded data removed]"
          },
          "metadata": {}
        }
      ],
      "source": [
        "loss_df.plot()"
      ]
    },
    {
      "cell_type": "code",
      "execution_count": 155,
      "metadata": {
        "id": "IZVtePWMzvMy",
        "colab": {
          "base_uri": "https://localhost:8080/"
        },
        "outputId": "eff93856-feef-46d6-be7f-6d936f4e732b"
      },
      "outputs": [
        {
          "output_type": "execute_result",
          "data": {
            "text/plain": [
              "27.664772033691406"
            ]
          },
          "metadata": {},
          "execution_count": 155
        }
      ],
      "source": [
        "model.evaluate(X_test,y_test,verbose=0)"
      ]
    },
    {
      "cell_type": "code",
      "execution_count": 156,
      "metadata": {
        "id": "z_ASlKQL2Tp8",
        "colab": {
          "base_uri": "https://localhost:8080/"
        },
        "outputId": "276fdaa8-49d7-411c-9d41-23691199e190"
      },
      "outputs": [
        {
          "output_type": "execute_result",
          "data": {
            "text/plain": [
              "23.39907455444336"
            ]
          },
          "metadata": {},
          "execution_count": 156
        }
      ],
      "source": [
        "model.evaluate(X_train,y_train,verbose=0)"
      ]
    },
    {
      "cell_type": "code",
      "execution_count": 157,
      "metadata": {
        "id": "C7TuNCJT2e5A",
        "colab": {
          "base_uri": "https://localhost:8080/"
        },
        "outputId": "e22e057a-30eb-4827-c3ec-b49b64667a6b"
      },
      "outputs": [
        {
          "output_type": "stream",
          "name": "stderr",
          "text": [
            "WARNING:tensorflow:6 out of the last 19 calls to <function Model.make_predict_function.<locals>.predict_function at 0x796e52f2d120> triggered tf.function retracing. Tracing is expensive and the excessive number of tracings could be due to (1) creating @tf.function repeatedly in a loop, (2) passing tensors with different shapes, (3) passing Python objects instead of tensors. For (1), please define your @tf.function outside of the loop. For (2), @tf.function has reduce_retracing=True option that can avoid unnecessary retracing. For (3), please refer to https://www.tensorflow.org/guide/function#controlling_retracing and https://www.tensorflow.org/api_docs/python/tf/function for  more details.\n"
          ]
        },
        {
          "output_type": "stream",
          "name": "stdout",
          "text": [
            "10/10 [==============================] - 0s 2ms/step\n"
          ]
        }
      ],
      "source": [
        "test_prediction = model.predict(X_test)"
      ]
    },
    {
      "cell_type": "code",
      "execution_count": 158,
      "metadata": {
        "id": "DsAzltb43PSr"
      },
      "outputs": [],
      "source": [
        "test_predictions = pd.Series(test_prediction.reshape(300,))"
      ]
    },
    {
      "cell_type": "code",
      "execution_count": 159,
      "metadata": {
        "id": "mGJiF_e43mT9",
        "colab": {
          "base_uri": "https://localhost:8080/"
        },
        "outputId": "eadb1058-4fe4-4418-ca0e-eedd5395c828"
      },
      "outputs": [
        {
          "output_type": "execute_result",
          "data": {
            "text/plain": [
              "0      654.143799\n",
              "1      511.568848\n",
              "2      518.440552\n",
              "3      485.056091\n",
              "4      541.507446\n",
              "          ...    \n",
              "295    369.882965\n",
              "296    637.008606\n",
              "297    395.123230\n",
              "298    584.004395\n",
              "299    511.488770\n",
              "Length: 300, dtype: float32"
            ]
          },
          "metadata": {},
          "execution_count": 159
        }
      ],
      "source": [
        "test_predictions"
      ]
    },
    {
      "cell_type": "code",
      "execution_count": 160,
      "metadata": {
        "id": "XZ-zozMt32fY"
      },
      "outputs": [],
      "source": [
        "pred_df = pd.DataFrame(y_test,columns=['Test True Y'])"
      ]
    },
    {
      "cell_type": "code",
      "execution_count": 161,
      "metadata": {
        "id": "6XMUAbfw3_sA",
        "colab": {
          "base_uri": "https://localhost:8080/",
          "height": 206
        },
        "outputId": "0037c8b5-d3af-4325-e6e5-51ed32feb8c5"
      },
      "outputs": [
        {
          "output_type": "execute_result",
          "data": {
            "text/plain": [
              "   Test True Y\n",
              "0   655.391403\n",
              "1   511.366708\n",
              "2   515.778446\n",
              "3   478.358238\n",
              "4   543.830279"
            ],
            "text/html": [
              "\n",
              "\n",
              "  <div id=\"df-efb977c5-b5bc-42bb-abe7-f628c218c6d3\">\n",
              "    <div class=\"colab-df-container\">\n",
              "      <div>\n",
              "<style scoped>\n",
              "    .dataframe tbody tr th:only-of-type {\n",
              "        vertical-align: middle;\n",
              "    }\n",
              "\n",
              "    .dataframe tbody tr th {\n",
              "        vertical-align: top;\n",
              "    }\n",
              "\n",
              "    .dataframe thead th {\n",
              "        text-align: right;\n",
              "    }\n",
              "</style>\n",
              "<table border=\"1\" class=\"dataframe\">\n",
              "  <thead>\n",
              "    <tr style=\"text-align: right;\">\n",
              "      <th></th>\n",
              "      <th>Test True Y</th>\n",
              "    </tr>\n",
              "  </thead>\n",
              "  <tbody>\n",
              "    <tr>\n",
              "      <th>0</th>\n",
              "      <td>655.391403</td>\n",
              "    </tr>\n",
              "    <tr>\n",
              "      <th>1</th>\n",
              "      <td>511.366708</td>\n",
              "    </tr>\n",
              "    <tr>\n",
              "      <th>2</th>\n",
              "      <td>515.778446</td>\n",
              "    </tr>\n",
              "    <tr>\n",
              "      <th>3</th>\n",
              "      <td>478.358238</td>\n",
              "    </tr>\n",
              "    <tr>\n",
              "      <th>4</th>\n",
              "      <td>543.830279</td>\n",
              "    </tr>\n",
              "  </tbody>\n",
              "</table>\n",
              "</div>\n",
              "      <button class=\"colab-df-convert\" onclick=\"convertToInteractive('df-efb977c5-b5bc-42bb-abe7-f628c218c6d3')\"\n",
              "              title=\"Convert this dataframe to an interactive table.\"\n",
              "              style=\"display:none;\">\n",
              "\n",
              "  <svg xmlns=\"http://www.w3.org/2000/svg\" height=\"24px\"viewBox=\"0 0 24 24\"\n",
              "       width=\"24px\">\n",
              "    <path d=\"M0 0h24v24H0V0z\" fill=\"none\"/>\n",
              "    <path d=\"M18.56 5.44l.94 2.06.94-2.06 2.06-.94-2.06-.94-.94-2.06-.94 2.06-2.06.94zm-11 1L8.5 8.5l.94-2.06 2.06-.94-2.06-.94L8.5 2.5l-.94 2.06-2.06.94zm10 10l.94 2.06.94-2.06 2.06-.94-2.06-.94-.94-2.06-.94 2.06-2.06.94z\"/><path d=\"M17.41 7.96l-1.37-1.37c-.4-.4-.92-.59-1.43-.59-.52 0-1.04.2-1.43.59L10.3 9.45l-7.72 7.72c-.78.78-.78 2.05 0 2.83L4 21.41c.39.39.9.59 1.41.59.51 0 1.02-.2 1.41-.59l7.78-7.78 2.81-2.81c.8-.78.8-2.07 0-2.86zM5.41 20L4 18.59l7.72-7.72 1.47 1.35L5.41 20z\"/>\n",
              "  </svg>\n",
              "      </button>\n",
              "\n",
              "\n",
              "\n",
              "    <div id=\"df-963a0c93-5903-49bc-a044-dbd00da98acf\">\n",
              "      <button class=\"colab-df-quickchart\" onclick=\"quickchart('df-963a0c93-5903-49bc-a044-dbd00da98acf')\"\n",
              "              title=\"Suggest charts.\"\n",
              "              style=\"display:none;\">\n",
              "\n",
              "<svg xmlns=\"http://www.w3.org/2000/svg\" height=\"24px\"viewBox=\"0 0 24 24\"\n",
              "     width=\"24px\">\n",
              "    <g>\n",
              "        <path d=\"M19 3H5c-1.1 0-2 .9-2 2v14c0 1.1.9 2 2 2h14c1.1 0 2-.9 2-2V5c0-1.1-.9-2-2-2zM9 17H7v-7h2v7zm4 0h-2V7h2v10zm4 0h-2v-4h2v4z\"/>\n",
              "    </g>\n",
              "</svg>\n",
              "      </button>\n",
              "    </div>\n",
              "\n",
              "<style>\n",
              "  .colab-df-quickchart {\n",
              "    background-color: #E8F0FE;\n",
              "    border: none;\n",
              "    border-radius: 50%;\n",
              "    cursor: pointer;\n",
              "    display: none;\n",
              "    fill: #1967D2;\n",
              "    height: 32px;\n",
              "    padding: 0 0 0 0;\n",
              "    width: 32px;\n",
              "  }\n",
              "\n",
              "  .colab-df-quickchart:hover {\n",
              "    background-color: #E2EBFA;\n",
              "    box-shadow: 0px 1px 2px rgba(60, 64, 67, 0.3), 0px 1px 3px 1px rgba(60, 64, 67, 0.15);\n",
              "    fill: #174EA6;\n",
              "  }\n",
              "\n",
              "  [theme=dark] .colab-df-quickchart {\n",
              "    background-color: #3B4455;\n",
              "    fill: #D2E3FC;\n",
              "  }\n",
              "\n",
              "  [theme=dark] .colab-df-quickchart:hover {\n",
              "    background-color: #434B5C;\n",
              "    box-shadow: 0px 1px 3px 1px rgba(0, 0, 0, 0.15);\n",
              "    filter: drop-shadow(0px 1px 2px rgba(0, 0, 0, 0.3));\n",
              "    fill: #FFFFFF;\n",
              "  }\n",
              "</style>\n",
              "\n",
              "    <script>\n",
              "      async function quickchart(key) {\n",
              "        const containerElement = document.querySelector('#' + key);\n",
              "        const charts = await google.colab.kernel.invokeFunction(\n",
              "            'suggestCharts', [key], {});\n",
              "      }\n",
              "    </script>\n",
              "\n",
              "      <script>\n",
              "\n",
              "function displayQuickchartButton(domScope) {\n",
              "  let quickchartButtonEl =\n",
              "    domScope.querySelector('#df-963a0c93-5903-49bc-a044-dbd00da98acf button.colab-df-quickchart');\n",
              "  quickchartButtonEl.style.display =\n",
              "    google.colab.kernel.accessAllowed ? 'block' : 'none';\n",
              "}\n",
              "\n",
              "        displayQuickchartButton(document);\n",
              "      </script>\n",
              "      <style>\n",
              "    .colab-df-container {\n",
              "      display:flex;\n",
              "      flex-wrap:wrap;\n",
              "      gap: 12px;\n",
              "    }\n",
              "\n",
              "    .colab-df-convert {\n",
              "      background-color: #E8F0FE;\n",
              "      border: none;\n",
              "      border-radius: 50%;\n",
              "      cursor: pointer;\n",
              "      display: none;\n",
              "      fill: #1967D2;\n",
              "      height: 32px;\n",
              "      padding: 0 0 0 0;\n",
              "      width: 32px;\n",
              "    }\n",
              "\n",
              "    .colab-df-convert:hover {\n",
              "      background-color: #E2EBFA;\n",
              "      box-shadow: 0px 1px 2px rgba(60, 64, 67, 0.3), 0px 1px 3px 1px rgba(60, 64, 67, 0.15);\n",
              "      fill: #174EA6;\n",
              "    }\n",
              "\n",
              "    [theme=dark] .colab-df-convert {\n",
              "      background-color: #3B4455;\n",
              "      fill: #D2E3FC;\n",
              "    }\n",
              "\n",
              "    [theme=dark] .colab-df-convert:hover {\n",
              "      background-color: #434B5C;\n",
              "      box-shadow: 0px 1px 3px 1px rgba(0, 0, 0, 0.15);\n",
              "      filter: drop-shadow(0px 1px 2px rgba(0, 0, 0, 0.3));\n",
              "      fill: #FFFFFF;\n",
              "    }\n",
              "  </style>\n",
              "\n",
              "      <script>\n",
              "        const buttonEl =\n",
              "          document.querySelector('#df-efb977c5-b5bc-42bb-abe7-f628c218c6d3 button.colab-df-convert');\n",
              "        buttonEl.style.display =\n",
              "          google.colab.kernel.accessAllowed ? 'block' : 'none';\n",
              "\n",
              "        async function convertToInteractive(key) {\n",
              "          const element = document.querySelector('#df-efb977c5-b5bc-42bb-abe7-f628c218c6d3');\n",
              "          const dataTable =\n",
              "            await google.colab.kernel.invokeFunction('convertToInteractive',\n",
              "                                                     [key], {});\n",
              "          if (!dataTable) return;\n",
              "\n",
              "          const docLinkHtml = 'Like what you see? Visit the ' +\n",
              "            '<a target=\"_blank\" href=https://colab.research.google.com/notebooks/data_table.ipynb>data table notebook</a>'\n",
              "            + ' to learn more about interactive tables.';\n",
              "          element.innerHTML = '';\n",
              "          dataTable['output_type'] = 'display_data';\n",
              "          await google.colab.output.renderOutput(dataTable, element);\n",
              "          const docLink = document.createElement('div');\n",
              "          docLink.innerHTML = docLinkHtml;\n",
              "          element.appendChild(docLink);\n",
              "        }\n",
              "      </script>\n",
              "    </div>\n",
              "  </div>\n"
            ]
          },
          "metadata": {},
          "execution_count": 161
        }
      ],
      "source": [
        "pred_df.head()"
      ]
    },
    {
      "cell_type": "code",
      "execution_count": 162,
      "metadata": {
        "id": "VCUrWsbJ4BZy"
      },
      "outputs": [],
      "source": [
        "pred_df = pd.concat([pred_df,test_predictions],axis=1)"
      ]
    },
    {
      "cell_type": "code",
      "execution_count": 163,
      "metadata": {
        "id": "t0a-abNx4QrI",
        "colab": {
          "base_uri": "https://localhost:8080/",
          "height": 206
        },
        "outputId": "79cb044c-507c-4d22-f208-e878517ad8bb"
      },
      "outputs": [
        {
          "output_type": "execute_result",
          "data": {
            "text/plain": [
              "   Test True Y           0\n",
              "0   655.391403  654.143799\n",
              "1   511.366708  511.568848\n",
              "2   515.778446  518.440552\n",
              "3   478.358238  485.056091\n",
              "4   543.830279  541.507446"
            ],
            "text/html": [
              "\n",
              "\n",
              "  <div id=\"df-ec43ba0d-e1c0-4938-bd3f-e5e1705c5acc\">\n",
              "    <div class=\"colab-df-container\">\n",
              "      <div>\n",
              "<style scoped>\n",
              "    .dataframe tbody tr th:only-of-type {\n",
              "        vertical-align: middle;\n",
              "    }\n",
              "\n",
              "    .dataframe tbody tr th {\n",
              "        vertical-align: top;\n",
              "    }\n",
              "\n",
              "    .dataframe thead th {\n",
              "        text-align: right;\n",
              "    }\n",
              "</style>\n",
              "<table border=\"1\" class=\"dataframe\">\n",
              "  <thead>\n",
              "    <tr style=\"text-align: right;\">\n",
              "      <th></th>\n",
              "      <th>Test True Y</th>\n",
              "      <th>0</th>\n",
              "    </tr>\n",
              "  </thead>\n",
              "  <tbody>\n",
              "    <tr>\n",
              "      <th>0</th>\n",
              "      <td>655.391403</td>\n",
              "      <td>654.143799</td>\n",
              "    </tr>\n",
              "    <tr>\n",
              "      <th>1</th>\n",
              "      <td>511.366708</td>\n",
              "      <td>511.568848</td>\n",
              "    </tr>\n",
              "    <tr>\n",
              "      <th>2</th>\n",
              "      <td>515.778446</td>\n",
              "      <td>518.440552</td>\n",
              "    </tr>\n",
              "    <tr>\n",
              "      <th>3</th>\n",
              "      <td>478.358238</td>\n",
              "      <td>485.056091</td>\n",
              "    </tr>\n",
              "    <tr>\n",
              "      <th>4</th>\n",
              "      <td>543.830279</td>\n",
              "      <td>541.507446</td>\n",
              "    </tr>\n",
              "  </tbody>\n",
              "</table>\n",
              "</div>\n",
              "      <button class=\"colab-df-convert\" onclick=\"convertToInteractive('df-ec43ba0d-e1c0-4938-bd3f-e5e1705c5acc')\"\n",
              "              title=\"Convert this dataframe to an interactive table.\"\n",
              "              style=\"display:none;\">\n",
              "\n",
              "  <svg xmlns=\"http://www.w3.org/2000/svg\" height=\"24px\"viewBox=\"0 0 24 24\"\n",
              "       width=\"24px\">\n",
              "    <path d=\"M0 0h24v24H0V0z\" fill=\"none\"/>\n",
              "    <path d=\"M18.56 5.44l.94 2.06.94-2.06 2.06-.94-2.06-.94-.94-2.06-.94 2.06-2.06.94zm-11 1L8.5 8.5l.94-2.06 2.06-.94-2.06-.94L8.5 2.5l-.94 2.06-2.06.94zm10 10l.94 2.06.94-2.06 2.06-.94-2.06-.94-.94-2.06-.94 2.06-2.06.94z\"/><path d=\"M17.41 7.96l-1.37-1.37c-.4-.4-.92-.59-1.43-.59-.52 0-1.04.2-1.43.59L10.3 9.45l-7.72 7.72c-.78.78-.78 2.05 0 2.83L4 21.41c.39.39.9.59 1.41.59.51 0 1.02-.2 1.41-.59l7.78-7.78 2.81-2.81c.8-.78.8-2.07 0-2.86zM5.41 20L4 18.59l7.72-7.72 1.47 1.35L5.41 20z\"/>\n",
              "  </svg>\n",
              "      </button>\n",
              "\n",
              "\n",
              "\n",
              "    <div id=\"df-a5dd5d45-0e30-4c93-ae0e-be5cc213e670\">\n",
              "      <button class=\"colab-df-quickchart\" onclick=\"quickchart('df-a5dd5d45-0e30-4c93-ae0e-be5cc213e670')\"\n",
              "              title=\"Suggest charts.\"\n",
              "              style=\"display:none;\">\n",
              "\n",
              "<svg xmlns=\"http://www.w3.org/2000/svg\" height=\"24px\"viewBox=\"0 0 24 24\"\n",
              "     width=\"24px\">\n",
              "    <g>\n",
              "        <path d=\"M19 3H5c-1.1 0-2 .9-2 2v14c0 1.1.9 2 2 2h14c1.1 0 2-.9 2-2V5c0-1.1-.9-2-2-2zM9 17H7v-7h2v7zm4 0h-2V7h2v10zm4 0h-2v-4h2v4z\"/>\n",
              "    </g>\n",
              "</svg>\n",
              "      </button>\n",
              "    </div>\n",
              "\n",
              "<style>\n",
              "  .colab-df-quickchart {\n",
              "    background-color: #E8F0FE;\n",
              "    border: none;\n",
              "    border-radius: 50%;\n",
              "    cursor: pointer;\n",
              "    display: none;\n",
              "    fill: #1967D2;\n",
              "    height: 32px;\n",
              "    padding: 0 0 0 0;\n",
              "    width: 32px;\n",
              "  }\n",
              "\n",
              "  .colab-df-quickchart:hover {\n",
              "    background-color: #E2EBFA;\n",
              "    box-shadow: 0px 1px 2px rgba(60, 64, 67, 0.3), 0px 1px 3px 1px rgba(60, 64, 67, 0.15);\n",
              "    fill: #174EA6;\n",
              "  }\n",
              "\n",
              "  [theme=dark] .colab-df-quickchart {\n",
              "    background-color: #3B4455;\n",
              "    fill: #D2E3FC;\n",
              "  }\n",
              "\n",
              "  [theme=dark] .colab-df-quickchart:hover {\n",
              "    background-color: #434B5C;\n",
              "    box-shadow: 0px 1px 3px 1px rgba(0, 0, 0, 0.15);\n",
              "    filter: drop-shadow(0px 1px 2px rgba(0, 0, 0, 0.3));\n",
              "    fill: #FFFFFF;\n",
              "  }\n",
              "</style>\n",
              "\n",
              "    <script>\n",
              "      async function quickchart(key) {\n",
              "        const containerElement = document.querySelector('#' + key);\n",
              "        const charts = await google.colab.kernel.invokeFunction(\n",
              "            'suggestCharts', [key], {});\n",
              "      }\n",
              "    </script>\n",
              "\n",
              "      <script>\n",
              "\n",
              "function displayQuickchartButton(domScope) {\n",
              "  let quickchartButtonEl =\n",
              "    domScope.querySelector('#df-a5dd5d45-0e30-4c93-ae0e-be5cc213e670 button.colab-df-quickchart');\n",
              "  quickchartButtonEl.style.display =\n",
              "    google.colab.kernel.accessAllowed ? 'block' : 'none';\n",
              "}\n",
              "\n",
              "        displayQuickchartButton(document);\n",
              "      </script>\n",
              "      <style>\n",
              "    .colab-df-container {\n",
              "      display:flex;\n",
              "      flex-wrap:wrap;\n",
              "      gap: 12px;\n",
              "    }\n",
              "\n",
              "    .colab-df-convert {\n",
              "      background-color: #E8F0FE;\n",
              "      border: none;\n",
              "      border-radius: 50%;\n",
              "      cursor: pointer;\n",
              "      display: none;\n",
              "      fill: #1967D2;\n",
              "      height: 32px;\n",
              "      padding: 0 0 0 0;\n",
              "      width: 32px;\n",
              "    }\n",
              "\n",
              "    .colab-df-convert:hover {\n",
              "      background-color: #E2EBFA;\n",
              "      box-shadow: 0px 1px 2px rgba(60, 64, 67, 0.3), 0px 1px 3px 1px rgba(60, 64, 67, 0.15);\n",
              "      fill: #174EA6;\n",
              "    }\n",
              "\n",
              "    [theme=dark] .colab-df-convert {\n",
              "      background-color: #3B4455;\n",
              "      fill: #D2E3FC;\n",
              "    }\n",
              "\n",
              "    [theme=dark] .colab-df-convert:hover {\n",
              "      background-color: #434B5C;\n",
              "      box-shadow: 0px 1px 3px 1px rgba(0, 0, 0, 0.15);\n",
              "      filter: drop-shadow(0px 1px 2px rgba(0, 0, 0, 0.3));\n",
              "      fill: #FFFFFF;\n",
              "    }\n",
              "  </style>\n",
              "\n",
              "      <script>\n",
              "        const buttonEl =\n",
              "          document.querySelector('#df-ec43ba0d-e1c0-4938-bd3f-e5e1705c5acc button.colab-df-convert');\n",
              "        buttonEl.style.display =\n",
              "          google.colab.kernel.accessAllowed ? 'block' : 'none';\n",
              "\n",
              "        async function convertToInteractive(key) {\n",
              "          const element = document.querySelector('#df-ec43ba0d-e1c0-4938-bd3f-e5e1705c5acc');\n",
              "          const dataTable =\n",
              "            await google.colab.kernel.invokeFunction('convertToInteractive',\n",
              "                                                     [key], {});\n",
              "          if (!dataTable) return;\n",
              "\n",
              "          const docLinkHtml = 'Like what you see? Visit the ' +\n",
              "            '<a target=\"_blank\" href=https://colab.research.google.com/notebooks/data_table.ipynb>data table notebook</a>'\n",
              "            + ' to learn more about interactive tables.';\n",
              "          element.innerHTML = '';\n",
              "          dataTable['output_type'] = 'display_data';\n",
              "          await google.colab.output.renderOutput(dataTable, element);\n",
              "          const docLink = document.createElement('div');\n",
              "          docLink.innerHTML = docLinkHtml;\n",
              "          element.appendChild(docLink);\n",
              "        }\n",
              "      </script>\n",
              "    </div>\n",
              "  </div>\n"
            ]
          },
          "metadata": {},
          "execution_count": 163
        }
      ],
      "source": [
        "pred_df.head()"
      ]
    },
    {
      "cell_type": "code",
      "execution_count": 164,
      "metadata": {
        "id": "8n_YtZ9E4SGv"
      },
      "outputs": [],
      "source": [
        "pred_df.columns = ['Test True Y','Model Predictions']"
      ]
    },
    {
      "cell_type": "code",
      "execution_count": 165,
      "metadata": {
        "id": "Bu2PNKOr41dG",
        "colab": {
          "base_uri": "https://localhost:8080/",
          "height": 112
        },
        "outputId": "617cd3bc-3ed6-4362-998b-d26f17b8010c"
      },
      "outputs": [
        {
          "output_type": "execute_result",
          "data": {
            "text/plain": [
              "   Test True Y  Model Predictions\n",
              "0   655.391403         654.143799\n",
              "1   511.366708         511.568848"
            ],
            "text/html": [
              "\n",
              "\n",
              "  <div id=\"df-b325946f-af09-4325-ac8b-585cd1fe4390\">\n",
              "    <div class=\"colab-df-container\">\n",
              "      <div>\n",
              "<style scoped>\n",
              "    .dataframe tbody tr th:only-of-type {\n",
              "        vertical-align: middle;\n",
              "    }\n",
              "\n",
              "    .dataframe tbody tr th {\n",
              "        vertical-align: top;\n",
              "    }\n",
              "\n",
              "    .dataframe thead th {\n",
              "        text-align: right;\n",
              "    }\n",
              "</style>\n",
              "<table border=\"1\" class=\"dataframe\">\n",
              "  <thead>\n",
              "    <tr style=\"text-align: right;\">\n",
              "      <th></th>\n",
              "      <th>Test True Y</th>\n",
              "      <th>Model Predictions</th>\n",
              "    </tr>\n",
              "  </thead>\n",
              "  <tbody>\n",
              "    <tr>\n",
              "      <th>0</th>\n",
              "      <td>655.391403</td>\n",
              "      <td>654.143799</td>\n",
              "    </tr>\n",
              "    <tr>\n",
              "      <th>1</th>\n",
              "      <td>511.366708</td>\n",
              "      <td>511.568848</td>\n",
              "    </tr>\n",
              "  </tbody>\n",
              "</table>\n",
              "</div>\n",
              "      <button class=\"colab-df-convert\" onclick=\"convertToInteractive('df-b325946f-af09-4325-ac8b-585cd1fe4390')\"\n",
              "              title=\"Convert this dataframe to an interactive table.\"\n",
              "              style=\"display:none;\">\n",
              "\n",
              "  <svg xmlns=\"http://www.w3.org/2000/svg\" height=\"24px\"viewBox=\"0 0 24 24\"\n",
              "       width=\"24px\">\n",
              "    <path d=\"M0 0h24v24H0V0z\" fill=\"none\"/>\n",
              "    <path d=\"M18.56 5.44l.94 2.06.94-2.06 2.06-.94-2.06-.94-.94-2.06-.94 2.06-2.06.94zm-11 1L8.5 8.5l.94-2.06 2.06-.94-2.06-.94L8.5 2.5l-.94 2.06-2.06.94zm10 10l.94 2.06.94-2.06 2.06-.94-2.06-.94-.94-2.06-.94 2.06-2.06.94z\"/><path d=\"M17.41 7.96l-1.37-1.37c-.4-.4-.92-.59-1.43-.59-.52 0-1.04.2-1.43.59L10.3 9.45l-7.72 7.72c-.78.78-.78 2.05 0 2.83L4 21.41c.39.39.9.59 1.41.59.51 0 1.02-.2 1.41-.59l7.78-7.78 2.81-2.81c.8-.78.8-2.07 0-2.86zM5.41 20L4 18.59l7.72-7.72 1.47 1.35L5.41 20z\"/>\n",
              "  </svg>\n",
              "      </button>\n",
              "\n",
              "\n",
              "\n",
              "    <div id=\"df-4805b68b-9620-4c8f-b010-f506039e2da7\">\n",
              "      <button class=\"colab-df-quickchart\" onclick=\"quickchart('df-4805b68b-9620-4c8f-b010-f506039e2da7')\"\n",
              "              title=\"Suggest charts.\"\n",
              "              style=\"display:none;\">\n",
              "\n",
              "<svg xmlns=\"http://www.w3.org/2000/svg\" height=\"24px\"viewBox=\"0 0 24 24\"\n",
              "     width=\"24px\">\n",
              "    <g>\n",
              "        <path d=\"M19 3H5c-1.1 0-2 .9-2 2v14c0 1.1.9 2 2 2h14c1.1 0 2-.9 2-2V5c0-1.1-.9-2-2-2zM9 17H7v-7h2v7zm4 0h-2V7h2v10zm4 0h-2v-4h2v4z\"/>\n",
              "    </g>\n",
              "</svg>\n",
              "      </button>\n",
              "    </div>\n",
              "\n",
              "<style>\n",
              "  .colab-df-quickchart {\n",
              "    background-color: #E8F0FE;\n",
              "    border: none;\n",
              "    border-radius: 50%;\n",
              "    cursor: pointer;\n",
              "    display: none;\n",
              "    fill: #1967D2;\n",
              "    height: 32px;\n",
              "    padding: 0 0 0 0;\n",
              "    width: 32px;\n",
              "  }\n",
              "\n",
              "  .colab-df-quickchart:hover {\n",
              "    background-color: #E2EBFA;\n",
              "    box-shadow: 0px 1px 2px rgba(60, 64, 67, 0.3), 0px 1px 3px 1px rgba(60, 64, 67, 0.15);\n",
              "    fill: #174EA6;\n",
              "  }\n",
              "\n",
              "  [theme=dark] .colab-df-quickchart {\n",
              "    background-color: #3B4455;\n",
              "    fill: #D2E3FC;\n",
              "  }\n",
              "\n",
              "  [theme=dark] .colab-df-quickchart:hover {\n",
              "    background-color: #434B5C;\n",
              "    box-shadow: 0px 1px 3px 1px rgba(0, 0, 0, 0.15);\n",
              "    filter: drop-shadow(0px 1px 2px rgba(0, 0, 0, 0.3));\n",
              "    fill: #FFFFFF;\n",
              "  }\n",
              "</style>\n",
              "\n",
              "    <script>\n",
              "      async function quickchart(key) {\n",
              "        const containerElement = document.querySelector('#' + key);\n",
              "        const charts = await google.colab.kernel.invokeFunction(\n",
              "            'suggestCharts', [key], {});\n",
              "      }\n",
              "    </script>\n",
              "\n",
              "      <script>\n",
              "\n",
              "function displayQuickchartButton(domScope) {\n",
              "  let quickchartButtonEl =\n",
              "    domScope.querySelector('#df-4805b68b-9620-4c8f-b010-f506039e2da7 button.colab-df-quickchart');\n",
              "  quickchartButtonEl.style.display =\n",
              "    google.colab.kernel.accessAllowed ? 'block' : 'none';\n",
              "}\n",
              "\n",
              "        displayQuickchartButton(document);\n",
              "      </script>\n",
              "      <style>\n",
              "    .colab-df-container {\n",
              "      display:flex;\n",
              "      flex-wrap:wrap;\n",
              "      gap: 12px;\n",
              "    }\n",
              "\n",
              "    .colab-df-convert {\n",
              "      background-color: #E8F0FE;\n",
              "      border: none;\n",
              "      border-radius: 50%;\n",
              "      cursor: pointer;\n",
              "      display: none;\n",
              "      fill: #1967D2;\n",
              "      height: 32px;\n",
              "      padding: 0 0 0 0;\n",
              "      width: 32px;\n",
              "    }\n",
              "\n",
              "    .colab-df-convert:hover {\n",
              "      background-color: #E2EBFA;\n",
              "      box-shadow: 0px 1px 2px rgba(60, 64, 67, 0.3), 0px 1px 3px 1px rgba(60, 64, 67, 0.15);\n",
              "      fill: #174EA6;\n",
              "    }\n",
              "\n",
              "    [theme=dark] .colab-df-convert {\n",
              "      background-color: #3B4455;\n",
              "      fill: #D2E3FC;\n",
              "    }\n",
              "\n",
              "    [theme=dark] .colab-df-convert:hover {\n",
              "      background-color: #434B5C;\n",
              "      box-shadow: 0px 1px 3px 1px rgba(0, 0, 0, 0.15);\n",
              "      filter: drop-shadow(0px 1px 2px rgba(0, 0, 0, 0.3));\n",
              "      fill: #FFFFFF;\n",
              "    }\n",
              "  </style>\n",
              "\n",
              "      <script>\n",
              "        const buttonEl =\n",
              "          document.querySelector('#df-b325946f-af09-4325-ac8b-585cd1fe4390 button.colab-df-convert');\n",
              "        buttonEl.style.display =\n",
              "          google.colab.kernel.accessAllowed ? 'block' : 'none';\n",
              "\n",
              "        async function convertToInteractive(key) {\n",
              "          const element = document.querySelector('#df-b325946f-af09-4325-ac8b-585cd1fe4390');\n",
              "          const dataTable =\n",
              "            await google.colab.kernel.invokeFunction('convertToInteractive',\n",
              "                                                     [key], {});\n",
              "          if (!dataTable) return;\n",
              "\n",
              "          const docLinkHtml = 'Like what you see? Visit the ' +\n",
              "            '<a target=\"_blank\" href=https://colab.research.google.com/notebooks/data_table.ipynb>data table notebook</a>'\n",
              "            + ' to learn more about interactive tables.';\n",
              "          element.innerHTML = '';\n",
              "          dataTable['output_type'] = 'display_data';\n",
              "          await google.colab.output.renderOutput(dataTable, element);\n",
              "          const docLink = document.createElement('div');\n",
              "          docLink.innerHTML = docLinkHtml;\n",
              "          element.appendChild(docLink);\n",
              "        }\n",
              "      </script>\n",
              "    </div>\n",
              "  </div>\n"
            ]
          },
          "metadata": {},
          "execution_count": 165
        }
      ],
      "source": [
        "pred_df.head(2)"
      ]
    },
    {
      "cell_type": "code",
      "execution_count": 166,
      "metadata": {
        "id": "H8eiKxg243KA",
        "colab": {
          "base_uri": "https://localhost:8080/",
          "height": 471
        },
        "outputId": "b4362beb-58f9-4198-aa14-af16ca1409ac"
      },
      "outputs": [
        {
          "output_type": "execute_result",
          "data": {
            "text/plain": [
              "[<matplotlib.lines.Line2D at 0x796e4f313040>]"
            ]
          },
          "metadata": {},
          "execution_count": 166
        },
        {
          "output_type": "display_data",
          "data": {
            "text/plain": [
              "<Figure size 640x480 with 1 Axes>"
            ],
            "image/png": "[encoded data removed]"
          },
          "metadata": {}
        }
      ],
      "source": [
        "import matplotlib.pyplot as plt\n",
        "sns.scatterplot(x = 'Test True Y',y='Model Predictions',data = pred_df)\n",
        "plt.plot(y_test,y_test,'r')"
      ]
    },
    {
      "cell_type": "code",
      "execution_count": 167,
      "metadata": {
        "id": "RDpkhFtP5uv9"
      },
      "outputs": [],
      "source": [
        "from sklearn.metrics import mean_absolute_error,mean_squared_error"
      ]
    },
    {
      "cell_type": "code",
      "execution_count": 168,
      "metadata": {
        "id": "5ls6loLt5zj2",
        "colab": {
          "base_uri": "https://localhost:8080/"
        },
        "outputId": "af01a3d3-7c0c-48b5-b0d6-9b750c20b6ff"
      },
      "outputs": [
        {
          "output_type": "execute_result",
          "data": {
            "text/plain": [
              "4.223728357696907"
            ]
          },
          "metadata": {},
          "execution_count": 168
        }
      ],
      "source": [
        "mean_absolute_error(pred_df['Test True Y'],pred_df['Model Predictions'])"
      ]
    },
    {
      "cell_type": "code",
      "execution_count": 169,
      "metadata": {
        "id": "c4kNqeqs5aFl",
        "colab": {
          "base_uri": "https://localhost:8080/",
          "height": 300
        },
        "outputId": "53010d5d-8700-4138-ff87-a744001c0169"
      },
      "outputs": [
        {
          "output_type": "execute_result",
          "data": {
            "text/plain": [
              "             price     feature1     feature2\n",
              "count  1000.000000  1000.000000  1000.000000\n",
              "mean    498.673029  1000.014171   999.979847\n",
              "std      93.785431     0.974018     0.948330\n",
              "min     223.346793   997.058347   996.995651\n",
              "25%     433.025732   999.332068   999.316106\n",
              "50%     502.382117  1000.009915  1000.002243\n",
              "75%     564.921588  1000.637580  1000.645380\n",
              "max     774.407854  1003.207934  1002.666308"
            ],
            "text/html": [
              "\n",
              "\n",
              "  <div id=\"df-5a04a240-33f6-4b77-a480-ef3e8b6ef11a\">\n",
              "    <div class=\"colab-df-container\">\n",
              "      <div>\n",
              "<style scoped>\n",
              "    .dataframe tbody tr th:only-of-type {\n",
              "        vertical-align: middle;\n",
              "    }\n",
              "\n",
              "    .dataframe tbody tr th {\n",
              "        vertical-align: top;\n",
              "    }\n",
              "\n",
              "    .dataframe thead th {\n",
              "        text-align: right;\n",
              "    }\n",
              "</style>\n",
              "<table border=\"1\" class=\"dataframe\">\n",
              "  <thead>\n",
              "    <tr style=\"text-align: right;\">\n",
              "      <th></th>\n",
              "      <th>price</th>\n",
              "      <th>feature1</th>\n",
              "      <th>feature2</th>\n",
              "    </tr>\n",
              "  </thead>\n",
              "  <tbody>\n",
              "    <tr>\n",
              "      <th>count</th>\n",
              "      <td>1000.000000</td>\n",
              "      <td>1000.000000</td>\n",
              "      <td>1000.000000</td>\n",
              "    </tr>\n",
              "    <tr>\n",
              "      <th>mean</th>\n",
              "      <td>498.673029</td>\n",
              "      <td>1000.014171</td>\n",
              "      <td>999.979847</td>\n",
              "    </tr>\n",
              "    <tr>\n",
              "      <th>std</th>\n",
              "      <td>93.785431</td>\n",
              "      <td>0.974018</td>\n",
              "      <td>0.948330</td>\n",
              "    </tr>\n",
              "    <tr>\n",
              "      <th>min</th>\n",
              "      <td>223.346793</td>\n",
              "      <td>997.058347</td>\n",
              "      <td>996.995651</td>\n",
              "    </tr>\n",
              "    <tr>\n",
              "      <th>25%</th>\n",
              "      <td>433.025732</td>\n",
              "      <td>999.332068</td>\n",
              "      <td>999.316106</td>\n",
              "    </tr>\n",
              "    <tr>\n",
              "      <th>50%</th>\n",
              "      <td>502.382117</td>\n",
              "      <td>1000.009915</td>\n",
              "      <td>1000.002243</td>\n",
              "    </tr>\n",
              "    <tr>\n",
              "      <th>75%</th>\n",
              "      <td>564.921588</td>\n",
              "      <td>1000.637580</td>\n",
              "      <td>1000.645380</td>\n",
              "    </tr>\n",
              "    <tr>\n",
              "      <th>max</th>\n",
              "      <td>774.407854</td>\n",
              "      <td>1003.207934</td>\n",
              "      <td>1002.666308</td>\n",
              "    </tr>\n",
              "  </tbody>\n",
              "</table>\n",
              "</div>\n",
              "      <button class=\"colab-df-convert\" onclick=\"convertToInteractive('df-5a04a240-33f6-4b77-a480-ef3e8b6ef11a')\"\n",
              "              title=\"Convert this dataframe to an interactive table.\"\n",
              "              style=\"display:none;\">\n",
              "\n",
              "  <svg xmlns=\"http://www.w3.org/2000/svg\" height=\"24px\"viewBox=\"0 0 24 24\"\n",
              "       width=\"24px\">\n",
              "    <path d=\"M0 0h24v24H0V0z\" fill=\"none\"/>\n",
              "    <path d=\"M18.56 5.44l.94 2.06.94-2.06 2.06-.94-2.06-.94-.94-2.06-.94 2.06-2.06.94zm-11 1L8.5 8.5l.94-2.06 2.06-.94-2.06-.94L8.5 2.5l-.94 2.06-2.06.94zm10 10l.94 2.06.94-2.06 2.06-.94-2.06-.94-.94-2.06-.94 2.06-2.06.94z\"/><path d=\"M17.41 7.96l-1.37-1.37c-.4-.4-.92-.59-1.43-.59-.52 0-1.04.2-1.43.59L10.3 9.45l-7.72 7.72c-.78.78-.78 2.05 0 2.83L4 21.41c.39.39.9.59 1.41.59.51 0 1.02-.2 1.41-.59l7.78-7.78 2.81-2.81c.8-.78.8-2.07 0-2.86zM5.41 20L4 18.59l7.72-7.72 1.47 1.35L5.41 20z\"/>\n",
              "  </svg>\n",
              "      </button>\n",
              "\n",
              "\n",
              "\n",
              "    <div id=\"df-ca86bdc4-42d4-45c2-bdfd-b561351d845a\">\n",
              "      <button class=\"colab-df-quickchart\" onclick=\"quickchart('df-ca86bdc4-42d4-45c2-bdfd-b561351d845a')\"\n",
              "              title=\"Suggest charts.\"\n",
              "              style=\"display:none;\">\n",
              "\n",
              "<svg xmlns=\"http://www.w3.org/2000/svg\" height=\"24px\"viewBox=\"0 0 24 24\"\n",
              "     width=\"24px\">\n",
              "    <g>\n",
              "        <path d=\"M19 3H5c-1.1 0-2 .9-2 2v14c0 1.1.9 2 2 2h14c1.1 0 2-.9 2-2V5c0-1.1-.9-2-2-2zM9 17H7v-7h2v7zm4 0h-2V7h2v10zm4 0h-2v-4h2v4z\"/>\n",
              "    </g>\n",
              "</svg>\n",
              "      </button>\n",
              "    </div>\n",
              "\n",
              "<style>\n",
              "  .colab-df-quickchart {\n",
              "    background-color: #E8F0FE;\n",
              "    border: none;\n",
              "    border-radius: 50%;\n",
              "    cursor: pointer;\n",
              "    display: none;\n",
              "    fill: #1967D2;\n",
              "    height: 32px;\n",
              "    padding: 0 0 0 0;\n",
              "    width: 32px;\n",
              "  }\n",
              "\n",
              "  .colab-df-quickchart:hover {\n",
              "    background-color: #E2EBFA;\n",
              "    box-shadow: 0px 1px 2px rgba(60, 64, 67, 0.3), 0px 1px 3px 1px rgba(60, 64, 67, 0.15);\n",
              "    fill: #174EA6;\n",
              "  }\n",
              "\n",
              "  [theme=dark] .colab-df-quickchart {\n",
              "    background-color: #3B4455;\n",
              "    fill: #D2E3FC;\n",
              "  }\n",
              "\n",
              "  [theme=dark] .colab-df-quickchart:hover {\n",
              "    background-color: #434B5C;\n",
              "    box-shadow: 0px 1px 3px 1px rgba(0, 0, 0, 0.15);\n",
              "    filter: drop-shadow(0px 1px 2px rgba(0, 0, 0, 0.3));\n",
              "    fill: #FFFFFF;\n",
              "  }\n",
              "</style>\n",
              "\n",
              "    <script>\n",
              "      async function quickchart(key) {\n",
              "        const containerElement = document.querySelector('#' + key);\n",
              "        const charts = await google.colab.kernel.invokeFunction(\n",
              "            'suggestCharts', [key], {});\n",
              "      }\n",
              "    </script>\n",
              "\n",
              "      <script>\n",
              "\n",
              "function displayQuickchartButton(domScope) {\n",
              "  let quickchartButtonEl =\n",
              "    domScope.querySelector('#df-ca86bdc4-42d4-45c2-bdfd-b561351d845a button.colab-df-quickchart');\n",
              "  quickchartButtonEl.style.display =\n",
              "    google.colab.kernel.accessAllowed ? 'block' : 'none';\n",
              "}\n",
              "\n",
              "        displayQuickchartButton(document);\n",
              "      </script>\n",
              "      <style>\n",
              "    .colab-df-container {\n",
              "      display:flex;\n",
              "      flex-wrap:wrap;\n",
              "      gap: 12px;\n",
              "    }\n",
              "\n",
              "    .colab-df-convert {\n",
              "      background-color: #E8F0FE;\n",
              "      border: none;\n",
              "      border-radius: 50%;\n",
              "      cursor: pointer;\n",
              "      display: none;\n",
              "      fill: #1967D2;\n",
              "      height: 32px;\n",
              "      padding: 0 0 0 0;\n",
              "      width: 32px;\n",
              "    }\n",
              "\n",
              "    .colab-df-convert:hover {\n",
              "      background-color: #E2EBFA;\n",
              "      box-shadow: 0px 1px 2px rgba(60, 64, 67, 0.3), 0px 1px 3px 1px rgba(60, 64, 67, 0.15);\n",
              "      fill: #174EA6;\n",
              "    }\n",
              "\n",
              "    [theme=dark] .colab-df-convert {\n",
              "      background-color: #3B4455;\n",
              "      fill: #D2E3FC;\n",
              "    }\n",
              "\n",
              "    [theme=dark] .colab-df-convert:hover {\n",
              "      background-color: #434B5C;\n",
              "      box-shadow: 0px 1px 3px 1px rgba(0, 0, 0, 0.15);\n",
              "      filter: drop-shadow(0px 1px 2px rgba(0, 0, 0, 0.3));\n",
              "      fill: #FFFFFF;\n",
              "    }\n",
              "  </style>\n",
              "\n",
              "      <script>\n",
              "        const buttonEl =\n",
              "          document.querySelector('#df-5a04a240-33f6-4b77-a480-ef3e8b6ef11a button.colab-df-convert');\n",
              "        buttonEl.style.display =\n",
              "          google.colab.kernel.accessAllowed ? 'block' : 'none';\n",
              "\n",
              "        async function convertToInteractive(key) {\n",
              "          const element = document.querySelector('#df-5a04a240-33f6-4b77-a480-ef3e8b6ef11a');\n",
              "          const dataTable =\n",
              "            await google.colab.kernel.invokeFunction('convertToInteractive',\n",
              "                                                     [key], {});\n",
              "          if (!dataTable) return;\n",
              "\n",
              "          const docLinkHtml = 'Like what you see? Visit the ' +\n",
              "            '<a target=\"_blank\" href=https://colab.research.google.com/notebooks/data_table.ipynb>data table notebook</a>'\n",
              "            + ' to learn more about interactive tables.';\n",
              "          element.innerHTML = '';\n",
              "          dataTable['output_type'] = 'display_data';\n",
              "          await google.colab.output.renderOutput(dataTable, element);\n",
              "          const docLink = document.createElement('div');\n",
              "          docLink.innerHTML = docLinkHtml;\n",
              "          element.appendChild(docLink);\n",
              "        }\n",
              "      </script>\n",
              "    </div>\n",
              "  </div>\n"
            ]
          },
          "metadata": {},
          "execution_count": 169
        }
      ],
      "source": [
        "df.describe()"
      ]
    },
    {
      "cell_type": "code",
      "execution_count": 170,
      "metadata": {
        "id": "7TFp7AT360HB",
        "colab": {
          "base_uri": "https://localhost:8080/"
        },
        "outputId": "fffa5203-18fb-409e-8b2f-df83c734a9ee"
      },
      "outputs": [
        {
          "output_type": "execute_result",
          "data": {
            "text/plain": [
              "27.66477300353103"
            ]
          },
          "metadata": {},
          "execution_count": 170
        }
      ],
      "source": [
        "mean_squared_error(pred_df['Test True Y'],pred_df['Model Predictions'])"
      ]
    },
    {
      "cell_type": "code",
      "execution_count": 171,
      "metadata": {
        "id": "JEt6kkau7b6R",
        "colab": {
          "base_uri": "https://localhost:8080/"
        },
        "outputId": "25d4cf98-1524-4624-bf0b-ba722310bffc"
      },
      "outputs": [
        {
          "output_type": "execute_result",
          "data": {
            "text/plain": [
              "5.2597312672351455"
            ]
          },
          "metadata": {},
          "execution_count": 171
        }
      ],
      "source": [
        "np.sqrt(mean_squared_error(pred_df['Test True Y'],pred_df['Model Predictions']))"
      ]
    },
    {
      "cell_type": "code",
      "execution_count": 188,
      "metadata": {
        "id": "lbhiGE4M79n3"
      },
      "outputs": [],
      "source": [
        "new_gem = [[999,1000]]"
      ]
    },
    {
      "cell_type": "code",
      "execution_count": 189,
      "metadata": {
        "id": "YL7nWnWD8I6i"
      },
      "outputs": [],
      "source": [
        "new_gem = scaler.transform(new_gem)"
      ]
    },
    {
      "cell_type": "code",
      "execution_count": 190,
      "metadata": {
        "id": "xI2Z4zHO8OMH",
        "colab": {
          "base_uri": "https://localhost:8080/"
        },
        "outputId": "d973631c-95a2-4c7c-a0f9-5d297b64dd23"
      },
      "outputs": [
        {
          "output_type": "stream",
          "name": "stdout",
          "text": [
            "1/1 [==============================] - 0s 24ms/step\n"
          ]
        },
        {
          "output_type": "execute_result",
          "data": {
            "text/plain": [
              "array([[459.49353]], dtype=float32)"
            ]
          },
          "metadata": {},
          "execution_count": 190
        }
      ],
      "source": [
        "#Predicted Value\n",
        "model.predict(new_gem)"
      ]
    },
    {
      "cell_type": "code",
      "execution_count": 191,
      "metadata": {
        "id": "eRm-drWK8cih"
      },
      "outputs": [],
      "source": [
        "from tensorflow.keras.models import load_model"
      ]
    },
    {
      "cell_type": "code",
      "execution_count": 192,
      "metadata": {
        "id": "Bud-8umc8gkS"
      },
      "outputs": [],
      "source": [
        "model.save('my_gem_model.h5')"
      ]
    },
    {
      "cell_type": "code",
      "execution_count": 193,
      "metadata": {
        "id": "lA0AxrEx8n4o"
      },
      "outputs": [],
      "source": [
        "later_model = load_model('my_gem_model.h5')"
      ]
    },
    {
      "cell_type": "code",
      "execution_count": 194,
      "metadata": {
        "id": "Zei6k-ax8tNF",
        "colab": {
          "base_uri": "https://localhost:8080/"
        },
        "outputId": "62570faa-28a9-436b-98cd-8dcf3d0946ae"
      },
      "outputs": [
        {
          "output_type": "stream",
          "name": "stdout",
          "text": [
            "1/1 [==============================] - 0s 64ms/step\n"
          ]
        },
        {
          "output_type": "execute_result",
          "data": {
            "text/plain": [
              "array([[459.49353]], dtype=float32)"
            ]
          },
          "metadata": {},
          "execution_count": 194
        }
      ],
      "source": [
        "later_model.predict(new_gem)"
      ]
    }
  ],
  "metadata": {
    "colab": {
      "provenance": [],
      "authorship_tag": "ABX9TyNZu5VowuHSUUL0em1jRL4h",
      "include_colab_link": true
    },
    "kernelspec": {
      "display_name": "Python 3",
      "name": "python3"
    },
    "language_info": {
      "name": "python"
    }
  },
  "nbformat": 4,
  "nbformat_minor": 0
}